{
  "nbformat": 4,
  "nbformat_minor": 0,
  "metadata": {
    "colab": {
      "provenance": [],
      "authorship_tag": "ABX9TyPl9zCJ0MWXvDW7wGkdVlRf",
      "include_colab_link": true
    },
    "kernelspec": {
      "name": "python3",
      "display_name": "Python 3"
    },
    "language_info": {
      "name": "python"
    }
  },
  "cells": [
    {
      "cell_type": "markdown",
      "metadata": {
        "id": "view-in-github",
        "colab_type": "text"
      },
      "source": [
        "<a href=\"https://colab.research.google.com/github/jmbanda/CSC4850-Machine-Learning/blob/main/Assignment3_ML.ipynb\" target=\"_parent\"><img src=\"https://colab.research.google.com/assets/colab-badge.svg\" alt=\"Open In Colab\"/></a>"
      ]
    },
    {
      "cell_type": "markdown",
      "source": [
        "# CSC 4850 / 6850 / DSCI 4850 - Assigment 3 - (400/450 points)\n",
        "\n",
        "**Total points (400 undergraduate / 450 graduate)**\n",
        "\n",
        "**Student Name: (write your name here)**\n",
        "\n",
        "**Graduate / Undergraduate (select one)**\n",
        "\n",
        "## Instructions:\n",
        "\n",
        "You are to make a copy of this notebook on your own Google Drive (if you don't have one, get one, it is free), and use the exact format provided. Any code needs to go in the code cells, and any 'text' answer/description needs to go in the proper text cell. We will not be looking for answers randomly placed so please read the instructions.\n",
        "\n",
        "You are to use only the libraries provided in the next code cell. Any additional library is NOT allowed and will cause you to lose all the points that use said library's functions/functionality. You can use any functions given in the class code examples, but be very very careful of lifting anything \n",
        "'as-is' from the internet as it will be considerered plagiarism. \n",
        "\n",
        "**IMPORTANT: Make sure you use 1234 (for the folds use: 3456, 5678, 7890) for your randomseed/random states. Failure to do so will make your answers not comparable to the answer key and you will get a zero on the whole assignment.**\n",
        "\n",
        "## Submission format:\n",
        "\n",
        "The submission for Assignment two will have two components:\n",
        "\n",
        "1) You are to create a PDF from the PRINT out of this notebook with all cells executed sequentially. It is the student's responsibility to be able to do this and no excuses will be accepted, no legible PDF = zero grade. So practice and test before submission time. This PDF should be named LastName_FirstName-Assignment3.PDF\n",
        "\n",
        "2) The student should create a GitHub repository for this assignment and properly title the repository Class_CODE-ClassName-AssignmentTwo. This repository should have a readme file and the Google Colab notebook in it. Note that colab can save a copy directly to GitHub so make sure you test this. Downloading the notebook file and uploading it directly will result in 200 points deduction. The link to your GitHub repository should be included as text/message in the iCollege submission drop, failure to include this link will result in a 100 point penalty. \n",
        "\n",
        "## Extra Credit for all:\n",
        "\n",
        "Any student can get 20 extra credit points by doing one simple thing:\n",
        "\n",
        "1) Make sure your repo for this assignment has a nice README file with figures and results. \n"
      ],
      "metadata": {
        "id": "Uc3L9tKWVV4g"
      }
    },
    {
      "cell_type": "code",
      "execution_count": null,
      "metadata": {
        "id": "PjGD5VGFVS-s"
      },
      "outputs": [],
      "source": [
        "############## These are the only imports allowed to solve this homework, so make sure you do not add anything else down below\n",
        "\n",
        "%matplotlib inline\n",
        "\n",
        "import numpy as np\n",
        "import pandas as pd\n",
        "import sklearn \n",
        "import numpy as np\n",
        "import matplotlib.pyplot as plt\n",
        "import seaborn as sns; sns.set()\n"
      ]
    },
    {
      "cell_type": "markdown",
      "source": [
        "Using the Chess dataset from Kaggle: https://www.kaggle.com/datasets/datasnaek/chess"
      ],
      "metadata": {
        "id": "89_ilQegV-MS"
      }
    },
    {
      "cell_type": "code",
      "source": [
        "### Manually download it and upload to this istance data sample space\n",
        "### Note DO NOT change these operations or all your answers will be incorrect\n",
        "\n",
        "### Let's do some transformations and extra features on this.\n",
        "df=pd.read_csv('games.csv', encoding='utf-8')\n",
        "\n",
        "# Difference between white rating and black rating - independent variable\n",
        "df['rating_difference']=df['white_rating']-df['black_rating']\n",
        "\n",
        "# White wins flag (1=win vs. 0=not-win) - dependent (target) variable\n",
        "df['white_win']=df['winner'].apply(lambda x: 1 if x=='white' else 0)\n"
      ],
      "metadata": {
        "id": "J_sakm7HV90A"
      },
      "execution_count": null,
      "outputs": []
    },
    {
      "cell_type": "markdown",
      "source": [
        "For this assignment we will be using two columns as features only, and the white_win colum as the label."
      ],
      "metadata": {
        "id": "zTyRQCajE5Go"
      }
    },
    {
      "cell_type": "code",
      "source": [
        "X=df[['rating_difference', 'turns']]\n",
        "y=df['white_win'].values"
      ],
      "metadata": {
        "id": "mv3OV1HJE4VZ"
      },
      "execution_count": null,
      "outputs": []
    },
    {
      "cell_type": "markdown",
      "source": [
        "# Question 1 (10 points)\n",
        "\n",
        "Use sklearn to split this the data into testing and training data. "
      ],
      "metadata": {
        "id": "0TLvYCXVbHN9"
      }
    },
    {
      "cell_type": "code",
      "source": [
        "##### Code block for Question 1"
      ],
      "metadata": {
        "id": "ZIxSrPxmbGYZ"
      },
      "execution_count": null,
      "outputs": []
    },
    {
      "cell_type": "markdown",
      "source": [
        "# Question 2 (30 points)\n",
        "\n",
        "Manually (DO NOT use kFold or any built-in functionality) create **THREE** different folds for the training data. "
      ],
      "metadata": {
        "id": "Hl5dZFu7lDg5"
      }
    },
    {
      "cell_type": "code",
      "source": [
        "##### Code block for Question 2"
      ],
      "metadata": {
        "id": "QDAUtNuAlUyI"
      },
      "execution_count": null,
      "outputs": []
    },
    {
      "cell_type": "markdown",
      "source": [
        "# Question 3 (30 points)\n",
        "\n",
        "Create code to build three different SVM models with the following kernels:\n",
        "\n",
        "1.   linear\n",
        "2.   poly\n",
        "3.   rbf"
      ],
      "metadata": {
        "id": "V6grDh8FlVtS"
      }
    },
    {
      "cell_type": "code",
      "source": [
        "##### Code block for Question 3"
      ],
      "metadata": {
        "id": "OAmTADedkDN0"
      },
      "execution_count": null,
      "outputs": []
    },
    {
      "cell_type": "markdown",
      "source": [
        "# Question 4 (70 points)\n",
        "\n",
        "FOLD 1 - run the first three models with first fold data you created. Output the classification report AND plot its learning curve.\n",
        "\n",
        "\n",
        "In the text cell, following the code block, descibe what findings can be infered from the classification report and learning curve. Mention at least 3 non-trivial observations between the different kernels. "
      ],
      "metadata": {
        "id": "UDBERCfzkTIK"
      }
    },
    {
      "cell_type": "code",
      "source": [
        "##### Code block for Question 4"
      ],
      "metadata": {
        "id": "OlQED2C0kSQ-"
      },
      "execution_count": null,
      "outputs": []
    },
    {
      "cell_type": "markdown",
      "source": [
        "Textual answer to question 4 goes here."
      ],
      "metadata": {
        "id": "axlGZ10EkumL"
      }
    },
    {
      "cell_type": "markdown",
      "source": [
        "# Question 5 (70 points)\n",
        "\n",
        "FOLD 2 - run the first three models with first fold data you created. Output the classification report AND plot its learning curve.\n",
        "\n",
        "\n",
        "In the text cell, following the code block, descibe what findings can be infered from the classification report and learning curve. Mention at least 3 non-trivial observations between the different kernels. "
      ],
      "metadata": {
        "id": "lGTwCVhZHBVn"
      }
    },
    {
      "cell_type": "code",
      "source": [
        "##### Code block for Question 5"
      ],
      "metadata": {
        "id": "K5I5I-vFHBV6"
      },
      "execution_count": null,
      "outputs": []
    },
    {
      "cell_type": "markdown",
      "source": [
        "Textual answer to question 5 goes here."
      ],
      "metadata": {
        "id": "5AGzL3oNHBV7"
      }
    },
    {
      "cell_type": "markdown",
      "source": [
        "# Question 6 (70 points)\n",
        "\n",
        "FOLD 3 - run the first three models with first fold data you created. Output the classification report AND plot its learning curve.\n",
        "\n",
        "\n",
        "In the text cell, following the code block, descibe what findings can be infered from the classification report and learning curve. Mention at least 3 non-trivial observations between the different kernels. "
      ],
      "metadata": {
        "id": "bB9uezyvHFc8"
      }
    },
    {
      "cell_type": "code",
      "source": [
        "##### Code block for Question 6"
      ],
      "metadata": {
        "id": "952LKGJCHFc9"
      },
      "execution_count": null,
      "outputs": []
    },
    {
      "cell_type": "markdown",
      "source": [
        "Textual answer to question 6 goes here."
      ],
      "metadata": {
        "id": "4hIeICojHFc9"
      }
    },
    {
      "cell_type": "markdown",
      "source": [
        "# Question 7 (30 points)\n",
        "\n",
        "From the three folds pick the best model for each different type of kernel.\n",
        "\n",
        "Present a table with the following columns from their metrics and model. Remember to make classifications on the test set at this stage.\n",
        "\n",
        "1. Model Name (Kernel)\n",
        "2. Accuracy\n",
        "3. Precision\n",
        "4. Recall\n",
        "5. F1-score\n",
        "6. RMSE\n"
      ],
      "metadata": {
        "id": "D5FbmbFolUE-"
      }
    },
    {
      "cell_type": "code",
      "source": [
        "##### Code block for Question 7"
      ],
      "metadata": {
        "id": "7-wRvWY7mvJ4"
      },
      "execution_count": null,
      "outputs": []
    },
    {
      "cell_type": "markdown",
      "source": [
        "# Question 8 (40 points) \n",
        "\n",
        "From question 7, which one is the best model in the following contexts:\n",
        "\n",
        "a) Metrics from table from question 7, and why?\n",
        "\n",
        "b) Based on the learning curves ploted in the previous questions, and why?"
      ],
      "metadata": {
        "id": "d0uKcXIWm2gZ"
      }
    },
    {
      "cell_type": "markdown",
      "source": [
        "Textual answer to question 8a goes here."
      ],
      "metadata": {
        "id": "fUv67lIDnQVt"
      }
    },
    {
      "cell_type": "markdown",
      "source": [
        "Textual answer to question 8b goes here."
      ],
      "metadata": {
        "id": "vekeBSBBnS8d"
      }
    },
    {
      "cell_type": "markdown",
      "source": [
        "# Question 9 (50 points)\n",
        "\n",
        "Wrie the simplest and most efficient Sklearn pipeline to do extactly what we did in questions 2 to 6. Make sure that you get all the same intermediate outputs and output the same table from quetsion 7 directly from this pipeline."
      ],
      "metadata": {
        "id": "5FAvUA_LptZA"
      }
    },
    {
      "cell_type": "code",
      "source": [
        "##### Code block for Question 9"
      ],
      "metadata": {
        "id": "OVEa6yRHpsVp"
      },
      "execution_count": null,
      "outputs": []
    },
    {
      "cell_type": "markdown",
      "source": [
        "# Graduate Student Question: (50 points)\n",
        "\n",
        "Use the following function and provide visualizations for the best models for each kernel type from above (looking for three plots to receive full credit). Note: The function might need some small adjustments :)\n"
      ],
      "metadata": {
        "id": "ziqaH6VEuBJK"
      }
    },
    {
      "cell_type": "code",
      "source": [
        "def Plot_3D(X, X_test, y_test, clf):\n",
        "            \n",
        "    # Specify a size of the mesh to be used\n",
        "    mesh_size = 5\n",
        "    margin = 1\n",
        "\n",
        "    # Create a mesh grid on which we will run our model\n",
        "    x_min, x_max = X.iloc[:, 0].fillna(X.mean()).min() - margin, X.iloc[:, 0].fillna(X.mean()).max() + margin\n",
        "    y_min, y_max = X.iloc[:, 1].fillna(X.mean()).min() - margin, X.iloc[:, 1].fillna(X.mean()).max() + margin\n",
        "    xrange = np.arange(x_min, x_max, mesh_size)\n",
        "    yrange = np.arange(y_min, y_max, mesh_size)\n",
        "    xx, yy = np.meshgrid(xrange, yrange)\n",
        "            \n",
        "    # Calculate predictions on grid\n",
        "    Z = clf.predict_proba(np.c_[xx.ravel(), yy.ravel()])[:, 1]\n",
        "    Z = Z.reshape(xx.shape)\n",
        "\n",
        "    # Create a 3D scatter plot with predictions\n",
        "    fig = px.scatter_3d(x=X_test['rating_difference'], y=X_test['turns'], z=y_test, \n",
        "                     opacity=0.8, color_discrete_sequence=['black'])\n",
        "\n",
        "    # Set figure title and colors\n",
        "    fig.update_layout(#title_text=\"Scatter 3D Plot with SVM Prediction Surface\",\n",
        "                      paper_bgcolor = 'white',\n",
        "                      scene = dict(xaxis=dict(backgroundcolor='white',\n",
        "                                              color='black',\n",
        "                                              gridcolor='#f0f0f0'),\n",
        "                                   yaxis=dict(backgroundcolor='white',\n",
        "                                              color='black',\n",
        "                                              gridcolor='#f0f0f0'\n",
        "                                              ),\n",
        "                                   zaxis=dict(backgroundcolor='lightgrey',\n",
        "                                              color='black', \n",
        "                                              gridcolor='#f0f0f0', \n",
        "                                              )))\n",
        "    # Update marker size\n",
        "    fig.update_traces(marker=dict(size=1))\n",
        "\n",
        "    # Add prediction plane\n",
        "    fig.add_traces(go.Surface(x=xrange, y=yrange, z=Z, name='SVM Prediction',\n",
        "                              colorscale='RdBu', showscale=False, \n",
        "                              contours = {\"z\": {\"show\": True, \"start\": 0.2, \"end\": 0.8, \"size\": 0.05}}))\n",
        "    fig.show()"
      ],
      "metadata": {
        "id": "iP7WWFw6Esqu"
      },
      "execution_count": null,
      "outputs": []
    },
    {
      "cell_type": "code",
      "source": [
        "##### Code block for Graduate Student Question - Figure 1"
      ],
      "metadata": {
        "id": "a17SE-ZcuALz"
      },
      "execution_count": null,
      "outputs": []
    },
    {
      "cell_type": "code",
      "source": [
        "##### Code block for Graduate Student Question - Figure 2"
      ],
      "metadata": {
        "id": "1qjVDoYuKLCc"
      },
      "execution_count": null,
      "outputs": []
    },
    {
      "cell_type": "code",
      "source": [
        "##### Code block for Graduate Student Question - Figure 3"
      ],
      "metadata": {
        "id": "iXfXoPIpKL_Q"
      },
      "execution_count": null,
      "outputs": []
    }
  ]
}